{
 "cells": [
  {
   "cell_type": "markdown",
   "metadata": {},
   "source": [
    "#### Maximize  x1 + 2 x2 + 3 x3 + x4\n",
    "- Subject to\n",
    "- -x1 +   x2 + x3 + 10 x4 <= 20\n",
    "- x1 - 3 x2 + x3         <= 30\n",
    "- x2      - 3.5x4  = 0\n",
    "#### Bounds\n",
    "- 0 <= x1 <= 40\n",
    "- 0 <= x2\n",
    "- 0 <= x3\n",
    "- 2 <= x4 <= 3\n",
    "- Integers\n",
    "- x4"
   ]
  },
  {
   "cell_type": "code",
   "execution_count": 1,
   "metadata": {},
   "outputs": [
    {
     "name": "stdout",
     "output_type": "stream",
     "text": [
      "Version identifier: 22.1.0.0 | 2022-03-25 | 54982fbec\n",
      "CPXPARAM_Read_DataCheck                          1\n",
      "Found incumbent of value 46.000000 after 0.00 sec. (0.00 ticks)\n",
      "Tried aggregator 2 times.\n",
      "Aggregator did 1 substitutions.\n",
      "Reduced MIP has 2 rows, 3 columns, and 6 nonzeros.\n",
      "Reduced MIP has 0 binaries, 1 generals, 0 SOSs, and 0 indicators.\n",
      "Presolve time = 0.00 sec. (0.01 ticks)\n",
      "Tried aggregator 1 time.\n",
      "Reduced MIP has 2 rows, 3 columns, and 6 nonzeros.\n",
      "Reduced MIP has 0 binaries, 1 generals, 0 SOSs, and 0 indicators.\n",
      "Presolve time = 0.00 sec. (0.00 ticks)\n",
      "MIP emphasis: balance optimality and feasibility.\n",
      "MIP search method: dynamic search.\n",
      "Parallel mode: deterministic, using up to 32 threads.\n",
      "Root relaxation solution time = 0.02 sec. (0.00 ticks)\n",
      "\n",
      "        Nodes                                         Cuts/\n",
      "   Node  Left     Objective  IInf  Best Integer    Best Bound    ItCnt     Gap\n",
      "\n",
      "*     0+    0                           46.0000      163.0000           254.35%\n",
      "*     0     0      integral     0       84.5000       84.5000        2    0.00%\n",
      "Elapsed time = 0.02 sec. (0.02 ticks, tree = 0.00 MB, solutions = 2)\n",
      "\n",
      "Root node processing (before b&c):\n",
      "  Real time             =    0.02 sec. (0.02 ticks)\n",
      "Parallel b&c, 32 threads:\n",
      "  Real time             =    0.00 sec. (0.00 ticks)\n",
      "  Sync time (average)   =    0.00 sec.\n",
      "  Wait time (average)   =    0.00 sec.\n",
      "                          ------------\n",
      "Total (root+branch&cut) =    0.02 sec. (0.02 ticks)\n",
      "Solution status =  101\n",
      "Objective value =  84.5\n",
      "Solution values =  [30.5, 10.5, 10.0, 3.0]\n",
      "x: \n",
      "[30.5, 10.5, 10.0, 3.0]\n"
     ]
    }
   ],
   "source": [
    "import numpy as np\n",
    "import cplex\n",
    "from cplex.exceptions import CplexSolverError\n",
    "inf = cplex.infinity\n",
    "# Define the problem\n",
    "my_obj = [1,2,3,1]\n",
    "my_ub = [40,inf,inf,3]\n",
    "my_lb = [0,0,0,2]\n",
    "my_ctype = \"CCCI\"\n",
    "my_colnames = [\"x1\",\"x2\",\"x3\",\"x4\"]\n",
    "my_rhs = [20,30,0]\n",
    "my_rownames = [\"c1\",\"c2\",\"c3\"]\n",
    "my_sense = \"LLE\"\n",
    "\n",
    "# Create the problem\n",
    "def populate_problem(prob):\n",
    "    prob.objective.set_sense(prob.objective.sense.maximize)\n",
    "    prob.variables.add(obj=my_obj, lb=my_lb, ub=my_ub, types=my_ctype, names=my_colnames)\n",
    "\n",
    "    rows = [[[\"x1\",\"x2\",\"x3\",\"x4\"],[-1,1,1,10]],[[\"x1\",\"x2\",\"x3\"],[1,-1,1]],[[\"x2\",\"x4\"],[1,-3.5]]]\n",
    "\n",
    "    prob.linear_constraints.add(lin_expr=rows, senses=my_sense, rhs=my_rhs, names=my_rownames)\n",
    "\n",
    "try:\n",
    "    # Create the problem\n",
    "    my_prob = cplex.Cplex()\n",
    "    handle = populate_problem(my_prob)\n",
    "    my_prob.solve()\n",
    "except CplexSolverError as exc:\n",
    "    print(exc)\n",
    "else:\n",
    "    # Print the solution\n",
    "    print(\"Solution status = \", my_prob.solution.get_status())\n",
    "    print(\"Objective value = \", my_prob.solution.get_objective_value())\n",
    "    print(\"Solution values = \", my_prob.solution.get_values())\n",
    "numcols = my_prob.variables.get_num()\n",
    "numrows = my_prob.linear_constraints.get_num()\n",
    "slacks = my_prob.solution.get_linear_slacks()\n",
    "x = my_prob.solution.get_values()\n",
    "print('x: ')\n",
    "print(x)"
   ]
  }
 ],
 "metadata": {
  "kernelspec": {
   "display_name": "Python 3",
   "language": "python",
   "name": "python3"
  },
  "language_info": {
   "codemirror_mode": {
    "name": "ipython",
    "version": 3
   },
   "file_extension": ".py",
   "mimetype": "text/x-python",
   "name": "python",
   "nbconvert_exporter": "python",
   "pygments_lexer": "ipython3",
   "version": "3.8.20"
  }
 },
 "nbformat": 4,
 "nbformat_minor": 2
}
