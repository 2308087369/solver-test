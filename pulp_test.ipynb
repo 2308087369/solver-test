{
 "cells": [
  {
   "cell_type": "markdown",
   "metadata": {},
   "source": [
    "# Using pulp solver to test the given problem.\n",
    "#Failed because the problem needs a cplex license to run or a solver installed.\n",
    "#new : by highpy, we can use this solver to solve the problem. However, it is different from the cplex solver.  "
   ]
  },
  {
   "cell_type": "markdown",
   "metadata": {},
   "source": [
    "# Solving an Optimization Problem with HiGHS via PuLP\n",
    "\n",
    "This example demonstrates how to use Python to define a linear programming problem using **PuLP** and solve it using the **HiGHS** solver through the `highspy` interface. The code defines a simple maximization problem with decision variables, an objective function, and several constraints, then exports the model to an MPS file and solves it using HiGHS.\n",
    "\n",
    "## Mathematical Formulation\n",
    "\n",
    "The optimization problem is formulated as follows:\n",
    "\n",
    "### Objective Function\n",
    "Maximize:\n",
    "$$\n",
    "Z = 1x_1 + 2x_2 + 3x_3 + 1x_4\n",
    "$$\n",
    "\n",
    "### Subject to Constraints\n",
    "$$\n",
    "-c_1: -x_1 + x_2 + x_3 + 10x_4 \\leq 20\n",
    "$$\n",
    "$$\n",
    "-c_2: x_1 - x_2 + x_3 \\leq 30\n",
    "$$\n",
    "$$\n",
    "-c_3: x_2 - 3.5x_4 = 0\n",
    "$$\n",
    "\n",
    "### Variable Bounds\n",
    "$$\n",
    "0 \\leq x_1 \\leq 40, \\quad 0 \\leq x_2, \\quad 0 \\leq x_3, \\quad 2 \\leq x_4 \\leq 3\n",
    "$$\n",
    "$$\n",
    "x_1, x_2, x_3 \\in \\mathbb{R}, \\quad x_4 \\in \\mathbb{Z}\n",
    "$$"
   ]
  },
  {
   "cell_type": "code",
   "execution_count": 2,
   "metadata": {},
   "outputs": [
    {
     "name": "stdout",
     "output_type": "stream",
     "text": [
      "Model model.mps has status HighsModelStatus.kOptimal\n",
      "x1 = 7.0\n",
      "x2 = 7.0\n",
      "x3 = 0.0\n",
      "x4 = 2.0\n"
     ]
    }
   ],
   "source": [
    "import numpy as np\n",
    "import pulp\n",
    "import highspy\n",
    "\n",
    "# Define the problem\n",
    "my_obj = [1, 2, 3, 1]\n",
    "my_ub = [40, None, None, 3]\n",
    "my_lb = [0, 0, 0, 2]\n",
    "my_ctype = [\"Continuous\", \"Continuous\", \"Continuous\", \"Integer\"]\n",
    "my_colnames = [\"x1\", \"x2\", \"x3\", \"x4\"]\n",
    "my_rhs = [20, 30, 0]\n",
    "my_rownames = [\"c1\", \"c2\", \"c3\"]\n",
    "my_sense = [\"<=\", \"<=\", \"=\"]\n",
    "\n",
    "# Create the problem\n",
    "prob = pulp.LpProblem(\"Maximize_Objective\", pulp.LpMaximize)\n",
    "\n",
    "# Create decision variables\n",
    "variables = []\n",
    "for i, name in enumerate(my_colnames):\n",
    "    var_type = pulp.LpContinuous if my_ctype[i] == \"Continuous\" else pulp.LpInteger\n",
    "    var = pulp.LpVariable(name, lowBound=my_lb[i], upBound=my_ub[i], cat=var_type)\n",
    "    variables.append(var)\n",
    "\n",
    "# Set the objective function\n",
    "prob += pulp.lpDot(my_obj, variables), \"Objective\"\n",
    "\n",
    "# Add constraints\n",
    "constraints = [\n",
    "    ([-1, 1, 1, 10], \"<=\", 20),\n",
    "    ([1, -1, 1, 0], \"<=\", 30),\n",
    "    ([0, 1, 0, -3.5], \"=\", 0)\n",
    "]\n",
    "\n",
    "for i, (coeffs, sense, rhs) in enumerate(constraints):\n",
    "    expr = pulp.lpDot(coeffs, variables)\n",
    "    if sense == \"<=\":\n",
    "        prob += (expr <= rhs), my_rownames[i]\n",
    "    elif sense == \">=\":\n",
    "        prob += (expr >= rhs), my_rownames[i]\n",
    "    elif sense == \"=\":\n",
    "        prob += (expr == rhs), my_rownames[i]\n",
    "\n",
    "# Export the problem to an MPS file for HiGHS\n",
    "mps_filename = \"model.mps\"\n",
    "prob.writeMPS(mps_filename)\n",
    "\n",
    "# Solve the problem using HiGHS via highspy\n",
    "h = highspy.Highs()\n",
    "h.readModel(mps_filename)\n",
    "h.run()\n",
    "\n",
    "# Print the solution status\n",
    "print('Model', mps_filename, 'has status', h.getModelStatus())\n",
    "\n",
    "# Retrieve and print the variable values\n",
    "solution = h.getSolution().col_value\n",
    "for i, var in enumerate(variables):\n",
    "    print(f\"{var.name} =\", solution[i])  # 获取变量的最终取值\n"
   ]
  },
  {
   "cell_type": "code",
   "execution_count": 4,
   "metadata": {},
   "outputs": [
    {
     "ename": "SyntaxError",
     "evalue": "invalid syntax (2685608025.py, line 1)",
     "output_type": "error",
     "traceback": [
      "\u001b[1;36m  Cell \u001b[1;32mIn[4], line 1\u001b[1;36m\u001b[0m\n\u001b[1;33m    python E:/Pythonworkshop/feature_engineer_app/Ui_Qt_test.py\u001b[0m\n\u001b[1;37m           ^\u001b[0m\n\u001b[1;31mSyntaxError\u001b[0m\u001b[1;31m:\u001b[0m invalid syntax\n"
     ]
    }
   ],
   "source": [
    "python E:/Pythonworkshop/feature_engineer_app/Ui_Qt_test.py"
   ]
  },
  {
   "cell_type": "code",
   "execution_count": 1,
   "metadata": {},
   "outputs": [
    {
     "name": "stdout",
     "output_type": "stream",
     "text": [
      "Collecting highspy\n",
      "  Downloading highspy-1.7.2-cp38-cp38-win_amd64.whl.metadata (10 kB)\n",
      "Requirement already satisfied: numpy in e:\\pythonworkshop\\optimization_test\\.conda\\lib\\site-packages (from highspy) (1.24.4)\n",
      "Downloading highspy-1.7.2-cp38-cp38-win_amd64.whl (1.8 MB)\n",
      "   ---------------------------------------- 0.0/1.8 MB ? eta -:--:--\n",
      "   ----------------------- ---------------- 1.0/1.8 MB 25.4 MB/s eta 0:00:01\n",
      "   ----------------------- ---------------- 1.0/1.8 MB 25.4 MB/s eta 0:00:01\n",
      "   ---------------------------------------- 1.8/1.8 MB 3.1 MB/s eta 0:00:00\n",
      "Installing collected packages: highspy\n",
      "Successfully installed highspy-1.7.2\n",
      "Note: you may need to restart the kernel to use updated packages.\n"
     ]
    }
   ],
   "source": [
    "#pip install highspy"
   ]
  }
 ],
 "metadata": {
  "kernelspec": {
   "display_name": "Python 3",
   "language": "python",
   "name": "python3"
  },
  "language_info": {
   "codemirror_mode": {
    "name": "ipython",
    "version": 3
   },
   "file_extension": ".py",
   "mimetype": "text/x-python",
   "name": "python",
   "nbconvert_exporter": "python",
   "pygments_lexer": "ipython3",
   "version": "3.8.20"
  }
 },
 "nbformat": 4,
 "nbformat_minor": 2
}
