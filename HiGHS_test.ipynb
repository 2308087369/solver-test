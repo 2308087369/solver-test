{
 "cells": [
  {
   "cell_type": "code",
   "execution_count": 1,
   "metadata": {},
   "outputs": [
    {
     "name": "stdout",
     "output_type": "stream",
     "text": [
      "Solution status = Optimal\n",
      "Objective value = 84.5\n",
      "x1 = 30.5\n",
      "x2 = 10.5\n",
      "x3 = 10.0\n",
      "x4 = 3.0\n"
     ]
    }
   ],
   "source": [
    "import numpy as np\n",
    "import pulp\n",
    "\n",
    "# Define the problem\n",
    "my_obj = [1, 2, 3, 1]\n",
    "my_ub = [40, None, None, 3]\n",
    "my_lb = [0, 0, 0, 2]\n",
    "my_ctype = [\"Continuous\", \"Continuous\", \"Continuous\", \"Integer\"]\n",
    "my_colnames = [\"x1\", \"x2\", \"x3\", \"x4\"]\n",
    "my_rhs = [20, 30, 0]\n",
    "my_rownames = [\"c1\", \"c2\", \"c3\"]\n",
    "my_sense = [\"<=\", \"<=\", \"=\"]\n",
    "\n",
    "# Create the problem\n",
    "prob = pulp.LpProblem(\"Maximize_Objective\", pulp.LpMaximize)\n",
    "\n",
    "# Create decision variables\n",
    "variables = []\n",
    "for i, name in enumerate(my_colnames):\n",
    "    var_type = pulp.LpContinuous if my_ctype[i] == \"Continuous\" else pulp.LpInteger\n",
    "    var = pulp.LpVariable(name, lowBound=my_lb[i], upBound=my_ub[i], cat=var_type)\n",
    "    variables.append(var)\n",
    "\n",
    "# Set the objective function\n",
    "prob += pulp.lpDot(my_obj, variables), \"Objective\"\n",
    "\n",
    "# Add constraints\n",
    "constraints = [\n",
    "    ([-1, 1, 1, 10], \"<=\", 20),\n",
    "    ([1, -1, 1, 0], \"<=\", 30),\n",
    "    ([0, 1, 0, -3.5], \"=\", 0)\n",
    "]\n",
    "\n",
    "for i, (coeffs, sense, rhs) in enumerate(constraints):\n",
    "    expr = pulp.lpDot(coeffs, variables)\n",
    "    if sense == \"<=\":\n",
    "        prob += (expr <= rhs), my_rownames[i]\n",
    "    elif sense == \">=\":\n",
    "        prob += (expr >= rhs), my_rownames[i]\n",
    "    elif sense == \"=\":\n",
    "        prob += (expr == rhs), my_rownames[i]\n",
    "\n",
    "# Solve the problem using CPLEX solver\n",
    "prob.solve(pulp.CPLEX_CMD(msg=0))\n",
    "\n",
    "# Print the solution status\n",
    "print(\"Solution status =\", pulp.LpStatus[prob.status])\n",
    "\n",
    "# Print the objective value\n",
    "print(\"Objective value =\", pulp.value(prob.objective))\n",
    "\n",
    "# Print variable values\n",
    "for v in variables:\n",
    "    print(f\"{v.name} =\", v.varValue)  # 获取变量的最终取值\n"
   ]
  },
  {
   "cell_type": "code",
   "execution_count": null,
   "metadata": {},
   "outputs": [],
   "source": []
  }
 ],
 "metadata": {
  "kernelspec": {
   "display_name": "Python 3",
   "language": "python",
   "name": "python3"
  },
  "language_info": {
   "codemirror_mode": {
    "name": "ipython",
    "version": 3
   },
   "file_extension": ".py",
   "mimetype": "text/x-python",
   "name": "python",
   "nbconvert_exporter": "python",
   "pygments_lexer": "ipython3",
   "version": "3.8.20"
  }
 },
 "nbformat": 4,
 "nbformat_minor": 2
}
