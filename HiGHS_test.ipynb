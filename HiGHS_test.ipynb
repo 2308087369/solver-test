{
 "cells": [
  {
   "cell_type": "code",
   "execution_count": 5,
   "metadata": {},
   "outputs": [
    {
     "ename": "PulpSolverError",
     "evalue": "PuLP: Error while trying to execute cplex.exe",
     "output_type": "error",
     "traceback": [
      "\u001b[1;31m---------------------------------------------------------------------------\u001b[0m",
      "\u001b[1;31mPulpSolverError\u001b[0m                           Traceback (most recent call last)",
      "Cell \u001b[1;32mIn[5], line 44\u001b[0m\n\u001b[0;32m     41\u001b[0m         prob \u001b[38;5;241m+\u001b[39m\u001b[38;5;241m=\u001b[39m (expr \u001b[38;5;241m==\u001b[39m rhs), my_rownames[i]\n\u001b[0;32m     43\u001b[0m \u001b[38;5;66;03m# Solve the problem using CPLEX solver\u001b[39;00m\n\u001b[1;32m---> 44\u001b[0m \u001b[43mprob\u001b[49m\u001b[38;5;241;43m.\u001b[39;49m\u001b[43msolve\u001b[49m\u001b[43m(\u001b[49m\u001b[43mpulp\u001b[49m\u001b[38;5;241;43m.\u001b[39;49m\u001b[43mCPLEX_CMD\u001b[49m\u001b[43m(\u001b[49m\u001b[43mmsg\u001b[49m\u001b[38;5;241;43m=\u001b[39;49m\u001b[38;5;241;43m0\u001b[39;49m\u001b[43m)\u001b[49m\u001b[43m)\u001b[49m\n\u001b[0;32m     46\u001b[0m \u001b[38;5;66;03m# Print the solution status\u001b[39;00m\n\u001b[0;32m     47\u001b[0m \u001b[38;5;28mprint\u001b[39m(\u001b[38;5;124m\"\u001b[39m\u001b[38;5;124mSolution status =\u001b[39m\u001b[38;5;124m\"\u001b[39m, pulp\u001b[38;5;241m.\u001b[39mLpStatus[prob\u001b[38;5;241m.\u001b[39mstatus])\n",
      "File \u001b[1;32me:\\Pythonworkshop\\optimization_test\\.conda\\lib\\site-packages\\pulp\\pulp.py:1867\u001b[0m, in \u001b[0;36mLpProblem.solve\u001b[1;34m(self, solver, **kwargs)\u001b[0m\n\u001b[0;32m   1865\u001b[0m \u001b[38;5;66;03m# time it\u001b[39;00m\n\u001b[0;32m   1866\u001b[0m \u001b[38;5;28mself\u001b[39m\u001b[38;5;241m.\u001b[39mstartClock()\n\u001b[1;32m-> 1867\u001b[0m status \u001b[38;5;241m=\u001b[39m \u001b[43msolver\u001b[49m\u001b[38;5;241;43m.\u001b[39;49m\u001b[43mactualSolve\u001b[49m\u001b[43m(\u001b[49m\u001b[38;5;28;43mself\u001b[39;49m\u001b[43m,\u001b[49m\u001b[43m \u001b[49m\u001b[38;5;241;43m*\u001b[39;49m\u001b[38;5;241;43m*\u001b[39;49m\u001b[43mkwargs\u001b[49m\u001b[43m)\u001b[49m\n\u001b[0;32m   1868\u001b[0m \u001b[38;5;28mself\u001b[39m\u001b[38;5;241m.\u001b[39mstopClock()\n\u001b[0;32m   1869\u001b[0m \u001b[38;5;28mself\u001b[39m\u001b[38;5;241m.\u001b[39mrestoreObjective(wasNone, dummyVar)\n",
      "File \u001b[1;32me:\\Pythonworkshop\\optimization_test\\.conda\\lib\\site-packages\\pulp\\apis\\cplex_api.py:109\u001b[0m, in \u001b[0;36mCPLEX_CMD.actualSolve\u001b[1;34m(self, lp)\u001b[0m\n\u001b[0;32m    107\u001b[0m cplex\u001b[38;5;241m.\u001b[39mcommunicate(cplex_cmds)\n\u001b[0;32m    108\u001b[0m \u001b[38;5;28;01mif\u001b[39;00m cplex\u001b[38;5;241m.\u001b[39mreturncode \u001b[38;5;241m!=\u001b[39m \u001b[38;5;241m0\u001b[39m:\n\u001b[1;32m--> 109\u001b[0m     \u001b[38;5;28;01mraise\u001b[39;00m PulpSolverError(\u001b[38;5;124m\"\u001b[39m\u001b[38;5;124mPuLP: Error while trying to execute \u001b[39m\u001b[38;5;124m\"\u001b[39m \u001b[38;5;241m+\u001b[39m \u001b[38;5;28mself\u001b[39m\u001b[38;5;241m.\u001b[39mpath)\n\u001b[0;32m    110\u001b[0m \u001b[38;5;28;01mif\u001b[39;00m \u001b[38;5;129;01mnot\u001b[39;00m os\u001b[38;5;241m.\u001b[39mpath\u001b[38;5;241m.\u001b[39mexists(tmpSol):\n\u001b[0;32m    111\u001b[0m     status \u001b[38;5;241m=\u001b[39m constants\u001b[38;5;241m.\u001b[39mLpStatusInfeasible\n",
      "\u001b[1;31mPulpSolverError\u001b[0m: PuLP: Error while trying to execute cplex.exe"
     ]
    }
   ],
   "source": [
    "import numpy as np\n",
    "import pulp\n",
    "\n",
    "# Define the problem\n",
    "my_obj = [1, 2, 3, 1]\n",
    "my_ub = [40, None, None, 3]\n",
    "my_lb = [0, 0, 0, 2]\n",
    "my_ctype = [\"Continuous\", \"Continuous\", \"Continuous\", \"Integer\"]\n",
    "my_colnames = [\"x1\", \"x2\", \"x3\", \"x4\"]\n",
    "my_rhs = [20, 30, 0]\n",
    "my_rownames = [\"c1\", \"c2\", \"c3\"]\n",
    "my_sense = [\"<=\", \"<=\", \"=\"]\n",
    "\n",
    "# Create the problem\n",
    "prob = pulp.LpProblem(\"Maximize_Objective\", pulp.LpMaximize)\n",
    "\n",
    "# Create decision variables\n",
    "variables = []\n",
    "for i, name in enumerate(my_colnames):\n",
    "    var_type = pulp.LpContinuous if my_ctype[i] == \"Continuous\" else pulp.LpInteger\n",
    "    var = pulp.LpVariable(name, lowBound=my_lb[i], upBound=my_ub[i], cat=var_type)\n",
    "    variables.append(var)\n",
    "\n",
    "# Set the objective function\n",
    "prob += pulp.lpDot(my_obj, variables), \"Objective\"\n",
    "\n",
    "# Add constraints\n",
    "constraints = [\n",
    "    ([-1, 1, 1, 10], \"<=\", 20),\n",
    "    ([1, -1, 1, 0], \"<=\", 30),\n",
    "    ([0, 1, 0, -3.5], \"=\", 0)\n",
    "]\n",
    "\n",
    "for i, (coeffs, sense, rhs) in enumerate(constraints):\n",
    "    expr = pulp.lpDot(coeffs, variables)\n",
    "    if sense == \"<=\":\n",
    "        prob += (expr <= rhs), my_rownames[i]\n",
    "    elif sense == \">=\":\n",
    "        prob += (expr >= rhs), my_rownames[i]\n",
    "    elif sense == \"=\":\n",
    "        prob += (expr == rhs), my_rownames[i]\n",
    "\n",
    "# Solve the problem using CPLEX solver\n",
    "prob.solve(pulp.CPLEX_CMD(msg=0))\n",
    "\n",
    "# Print the solution status\n",
    "print(\"Solution status =\", pulp.LpStatus[prob.status])\n",
    "\n",
    "# Print the objective value\n",
    "print(\"Objective value =\", pulp.value(prob.objective))\n",
    "\n",
    "# Print variable values\n",
    "for v in variables:\n",
    "    print(f\"{v.name} =\", v.varValue)  # 获取变量的最终取值\n"
   ]
  },
  {
   "cell_type": "code",
   "execution_count": null,
   "metadata": {},
   "outputs": [],
   "source": []
  }
 ],
 "metadata": {
  "kernelspec": {
   "display_name": "Python 3",
   "language": "python",
   "name": "python3"
  },
  "language_info": {
   "codemirror_mode": {
    "name": "ipython",
    "version": 3
   },
   "file_extension": ".py",
   "mimetype": "text/x-python",
   "name": "python",
   "nbconvert_exporter": "python",
   "pygments_lexer": "ipython3",
   "version": "3.8.20"
  }
 },
 "nbformat": 4,
 "nbformat_minor": 2
}
